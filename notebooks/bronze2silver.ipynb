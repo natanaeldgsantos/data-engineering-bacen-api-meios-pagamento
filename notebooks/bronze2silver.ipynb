{
 "cells": [
  {
   "cell_type": "code",
   "execution_count": null,
   "metadata": {
    "vscode": {
     "languageId": "plaintext"
    }
   },
   "outputs": [],
   "source": [
    "\"\"\" DATA MANIPULATION PARA CAMADA SILVER  \"\"\"\n",
    "\n",
    "# Data Manipulation, Transformation\n",
    "\n",
    "# Explodindo o valor da coluna \"value\" em múltiplas colunas\n",
    "\n",
    "df_pagamentos_trimestral_transformed = df_pagamentos_trimestral_raw.withColumn('value_struct', explode(col(\"value\"))) \\\n",
    "                                                                   .select(\"value_struct.*\") \\\n",
    "                                                                   .withColumn('dt_partition', lit(dt_partition) )\n",
    "\n",
    "\n",
    "\n",
    "# Schema Original do arquivo origem\n",
    "df_pagamentos_trimestral_transformed.printSchema\n",
    "df_pagamentos_trimestral_transformed.show(n=3, vertical=False)\n"
   ]
  }
 ],
 "metadata": {
  "language_info": {
   "name": "python"
  }
 },
 "nbformat": 4,
 "nbformat_minor": 2
}
