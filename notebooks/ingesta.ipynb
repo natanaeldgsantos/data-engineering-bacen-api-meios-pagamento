{
 "cells": [
  {
   "cell_type": "code",
   "execution_count": null,
   "metadata": {},
   "outputs": [],
   "source": [
    "!pip install -q s3fs"
   ]
  },
  {
   "cell_type": "code",
   "execution_count": null,
   "metadata": {},
   "outputs": [],
   "source": [
    "# Define environment variables\n",
    "os.environ[\"MINIO_KEY\"] = \"developer\"\n",
    "os.environ[\"MINIO_SECRET\"] = \"developer01\"\n",
    "os.environ[\"MINIO_ENDPOINT\"] = \"http://minio:9000\"\n",
    "\n",
    " \n",
    "\"\"\"\n",
    "    Criando um Client de conexão com nosso Storage MinIO, atráves dele poderemos ler e gravar arquivos, somente como forma de testar a conexão.\n",
    "    O objetivo principal é ler arquivos usando Spark e gravar novamente, após padronização, utilizando Spark no formato Delta.\n",
    "    \n",
    "\"\"\"\n",
    "\n",
    "# Escrevendo arquivos de teste apenas para validar conexão\n",
    "fs = s3fs.S3FileSystem(\n",
    "    client_kwargs={'endpoint_url': os.environ[\"MINIO_ENDPOINT\"]}, # minio1 = minio container name\n",
    "    key=os.environ[\"MINIO_KEY\"],\n",
    "    secret=os.environ[\"MINIO_SECRET\"],\n",
    "    use_ssl=False  # Set to True if MinIO is set up with SSL\n",
    ")\n",
    "\n",
    "teste = { \"message\": \"hello world\"}\n",
    "\n",
    "with fs.open('bank-databr/landing/bacen/cartoes_trimestral/teste.json', 'w', encoding='utf-8') as f:\n",
    "    json.dump(teste,f)\n",
    "\n",
    "# Import and Libraries\n",
    "\n",
    "import requests\n",
    "import json\n",
    "import os\n",
    "import s3fs\n",
    "import pyspark\n",
    "from pyspark.sql import SparkSession\n",
    "from pyspark import SparkContext\n",
    "import pyspark.sql.functions as F\n",
    "\n",
    "\n",
    "\n",
    "spark = SparkSession.builder \\\n",
    "    .appName(\"country_data_analysis\") \\\n",
    "    .config(\"spark.jars.packages\", \"org.apache.hadoop:hadoop-aws:3.3.4,com.amazonaws:aws-java-sdk-bundle:1.11.1026\") \\\n",
    "    .config(\"spark.hadoop.fs.s3a.endpoint\", os.environ[\"MINIO_ENDPOINT\"]) \\\n",
    "    .config(\"spark.hadoop.fs.s3a.access.key\", os.environ[\"MINIO_KEY\"]) \\\n",
    "    .config(\"spark.hadoop.fs.s3a.secret.key\", os.environ[\"MINIO_SECRET\"]) \\\n",
    "    .config(\"spark.hadoop.fs.s3a.path.style.access\", \"true\") \\\n",
    "    .config(\"spark.hadoop.fs.s3a.impl\", \"org.apache.hadoop.fs.s3a.S3AFileSystem\") \\\n",
    "    .enableHiveSupport() \\\n",
    "    .getOrCreate()\n",
    "\n",
    "# PySpark Libraries\n",
    "from pyspark.sql.functions import col, explode\n",
    "\n",
    "df = spark.read \\\n",
    "          .option(\"inferSchema\", True) \\\n",
    "          .json(\"s3a://bank-databr/landing/bacen/cartoes_trimestral/data_11_01_2025_22_02_56.json\")\n",
    "\n",
    "df = df.withColumn('value_struct', explode(col(\"value\"))) \\\n",
    "       .select(\"value_struct.*\")\n",
    "     \n",
    "\n",
    "df_exploded.show(n=5, truncate=True, vertical=True)"
   ]
  }
 ],
 "metadata": {
  "kernelspec": {
   "display_name": "Python 3 (ipykernel)",
   "language": "python",
   "name": "python3"
  },
  "language_info": {
   "codemirror_mode": {
    "name": "ipython",
    "version": 3
   },
   "file_extension": ".py",
   "mimetype": "text/x-python",
   "name": "python",
   "nbconvert_exporter": "python",
   "pygments_lexer": "ipython3",
   "version": "3.11.6"
  }
 },
 "nbformat": 4,
 "nbformat_minor": 4
}
