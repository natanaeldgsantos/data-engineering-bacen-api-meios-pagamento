{
 "cells": [
  {
   "cell_type": "markdown",
   "id": "325c5e4a-dbe6-4aa9-b522-39528cf01fa2",
   "metadata": {},
   "source": [
    "### 01. Testando conexão e integração como o Storage (MinIO)"
   ]
  },
  {
   "cell_type": "markdown",
   "id": "2e633d84-e556-4b6a-8ed4-a1cec62ed3ee",
   "metadata": {},
   "source": [
    "#### 01.1 - Criando Client para conexão com o Storage MinIO"
   ]
  },
  {
   "cell_type": "code",
   "execution_count": 12,
   "id": "b81596d6-a283-414c-b0b8-fa84f4510e5b",
   "metadata": {},
   "outputs": [],
   "source": [
    "# IMPORTS AND LIBRARIES\n",
    "\n",
    "import os\n",
    "import json\n",
    "import delta\n",
    "import requests\n",
    "from datetime import datetime\n",
    "\n",
    "import boto3\n",
    "import s3fs\n",
    "\n",
    "import logging\n",
    "\n",
    "# Configuração do logger\n",
    "logger = logging.getLogger(\"minio_logger\")\n",
    "logger.setLevel(logging.INFO)\n",
    "\n",
    "# Configurando o formato do log\n",
    "formatter = logging.Formatter('%(asctime)s - %(levelname)s - %(message)s')\n",
    "console_handler = logging.StreamHandler()\n",
    "console_handler.setFormatter(formatter)\n",
    "logger.addHandler(console_handler)\n"
   ]
  },
  {
   "cell_type": "code",
   "execution_count": 14,
   "id": "1d2669b5-b448-4aab-8224-e0688566caff",
   "metadata": {},
   "outputs": [],
   "source": [
    "# Variáveis Globais e de ambiente para o projeto.\n",
    "\n",
    "\n",
    "bucket_name = \"bank-databr\"\n",
    "\n",
    "os.environ[\"MINIO_KEY\"] = \"developer\"\n",
    "os.environ[\"MINIO_SECRET\"] = \"developer01\"\n",
    "os.environ[\"MINIO_ENDPOINT\"] = \"http://minio:9000\"\n",
    "\n"
   ]
  },
  {
   "cell_type": "code",
   "execution_count": 15,
   "id": "b8f0541c-9141-43d9-9154-96a38be2c84f",
   "metadata": {},
   "outputs": [],
   "source": [
    "\n",
    "s3_client = boto3.client(\n",
    "    's3',\n",
    "    endpoint_url = os.environ.get(\"MINIO_ENDPOINT\"),\n",
    "    aws_access_key_id = os.environ.get(\"MINIO_KEY\"),\n",
    "    aws_secret_access_key = os.environ.get(\"MINIO_SECRET\")\n",
    ")\n"
   ]
  },
  {
   "cell_type": "markdown",
   "id": "0785946a-1ac2-4942-b14d-86da5e5fb149",
   "metadata": {},
   "source": [
    "#### 01.2 - Gravando Arquivo de Exemplo"
   ]
  },
  {
   "cell_type": "code",
   "execution_count": 17,
   "id": "00a6237f-8123-4cf4-a773-ccce3fc67a88",
   "metadata": {},
   "outputs": [
    {
     "name": "stderr",
     "output_type": "stream",
     "text": [
      "2025-01-19 17:12:50,071 - INFO - Gravando Arquivo\n",
      "2025-01-19 17:12:50,071 - INFO - Gravando Arquivo\n",
      "2025-01-19 17:12:50,131 - INFO - \t* Arquivo /landing/bacen/teste.json gravado com sucesso\n",
      "2025-01-19 17:12:50,131 - INFO - \t* Arquivo /landing/bacen/teste.json gravado com sucesso\n"
     ]
    }
   ],
   "source": [
    "\n",
    "class DataModel:\n",
    "    \"\"\" Simplifica e Padroniza objetos a serem gravados no Storage MinIO S3 \"\"\"\n",
    "\n",
    "    def __init__(self, bucket_name: str, destination_file_path: str, file_content: str):\n",
    "        self.bucket_name = bucket_name\n",
    "        self.destination_file_path = destination_file_path\n",
    "        self.file_content = file_content        \n",
    "\n",
    "\n",
    "# Arquivo de Exemplo para testes no Client MinIO\n",
    "teste_data = DataModel(    \n",
    "    bucket_name = bucket_name,\n",
    "    destination_file_path = f\"/landing/bacen/teste.json\",\n",
    "    file_content = json.dumps({\"message\": \"hello world\"})    \n",
    ")\n",
    "\n",
    "\n",
    "def write_file(s3_client: boto3.client, data_params: DataModel) -> None:\n",
    "    \"\"\" Grava arquivo no Storage \n",
    "        Args:\n",
    "            s3_client: Client de conexão/integração com o storage\n",
    "            data_params: Objeto a ser gravado no storage padrão DataModel\n",
    "    \"\"\"\n",
    "\n",
    "    logger.info(\"Gravando Arquivo\")\n",
    "    \n",
    "    try:        \n",
    "\n",
    "        s3_client.put_object(\n",
    "            Bucket = data_params.bucket_name, \n",
    "            Key = data_params.destination_file_path,\n",
    "            Body = data_params.file_content\n",
    "        )\n",
    "    \n",
    "        logger.info(f\"\\t* Arquivo {data_params.destination_file_path} gravado com sucesso\")\n",
    "        \n",
    "    except Exception as e:\n",
    "        logger.error(f\"\\t* Erro ao tentar gravar arquivo {data_params.bucket_name}{data_params.destination_file_path}, error: {e}\")\n",
    "\n",
    "\n",
    "        \n",
    "# Gravando um novo Arquivo no Storage\n",
    "write_file(s3_client, teste_data)\n"
   ]
  },
  {
   "cell_type": "markdown",
   "id": "9d5525f8-afc6-45f4-9e7b-3eea142dd748",
   "metadata": {},
   "source": [
    "#### 01.3 - Listando todos os arquivos no Bucket informado"
   ]
  },
  {
   "cell_type": "code",
   "execution_count": 19,
   "id": "82816e08-3fd8-4345-9c1f-0a2610cbc3af",
   "metadata": {},
   "outputs": [
    {
     "name": "stderr",
     "output_type": "stream",
     "text": [
      "2025-01-19 17:13:52,176 - INFO - Listando todos os arquivos em bank-databr/landing/bacen\n",
      "2025-01-19 17:13:52,176 - INFO - Listando todos os arquivos em bank-databr/landing/bacen\n"
     ]
    },
    {
     "name": "stdout",
     "output_type": "stream",
     "text": [
      "\n",
      "Listando todos os arquivos na Landing\n",
      "\t* landing/bacen/cartoes_trimestral/data_18_01_2025_17_39_57.json\n",
      "\t* landing/bacen/meios_pagamentos_mensal/data_18_01_2025_17_39_57.json\n",
      "\t* landing/bacen/meios_pagamentos_trimestral/data_18_01_2025_17_39_57.json\n",
      "\t* landing/bacen/teste.json\n"
     ]
    }
   ],
   "source": [
    "\n",
    "def list_files_in_bucket(s3_client:boto3.client, destination_file_path:str) -> list:\n",
    "    \"\"\" Lista todos os arquivos no caminho indicado dentro do Storage \n",
    "        Args:\n",
    "            s3_client: Client de integração/conexão com o storage \n",
    "            path: caminho a ser listado dentro do bucket\n",
    "    \"\"\"\n",
    "\n",
    "    logger.info(f\"Listando todos os arquivos em {destination_file_path}\")\n",
    "\n",
    "    bucket_name, *prefix_parts = destination_file_path.replace(\"s3://\", \"\").split(\"/\", 1)\n",
    "    prefix = prefix_parts[0] if prefix_parts else \"\"\n",
    "   \n",
    "    try:\n",
    "        paginator = s3_client.get_paginator(\"list_objects_v2\")\n",
    "        for page in paginator.paginate(Bucket=bucket_name, Prefix = prefix):\n",
    "    \n",
    "            if \"Contents\" in page:\n",
    "                for obj in page['Contents']:\n",
    "                    yield obj['Key'] # retorna o nome do arquivo\n",
    "            else:\n",
    "                log.warn(\"\\t* Nenhum arquivo encontrado\")\n",
    "                \n",
    "    except Exception as e:\n",
    "        logger.error(f\"Erro ao lista arquivos: {e}\")\n",
    "\n",
    "landing_path_dir = f\"{bucket_name}/landing/bacen\"\n",
    "\n",
    "# Listando todos os arquivos na pasta raiz do Storage\n",
    "print('\\nListando todos os arquivos na Landing')\n",
    "for file in list_files_in_bucket(s3_client, landing_path_dir):\n",
    "    print(f\"\\t* {file}\")\n"
   ]
  },
  {
   "cell_type": "markdown",
   "id": "b2db32d6-e753-4776-9edc-380b1b93e2f6",
   "metadata": {},
   "source": [
    "#### 01.4 - Deletando arquivo de Testes"
   ]
  },
  {
   "cell_type": "code",
   "execution_count": 20,
   "id": "bc97f655-faff-4f50-8267-62a65158b45e",
   "metadata": {},
   "outputs": [
    {
     "name": "stderr",
     "output_type": "stream",
     "text": [
      "2025-01-19 17:14:01,443 - INFO - Removendo arquivo: bank-databr/teste.json\n",
      "2025-01-19 17:14:01,443 - INFO - Removendo arquivo: bank-databr/teste.json\n",
      "2025-01-19 17:14:01,473 - INFO - \t* Aquivo bank-databr/teste.json deletado com sucesso!\n",
      "2025-01-19 17:14:01,473 - INFO - \t* Aquivo bank-databr/teste.json deletado com sucesso!\n"
     ]
    }
   ],
   "source": [
    "\n",
    "def remove_files_in_bucket(s3_client:boto3.client, file_path:str, file_name:str) -> None:\n",
    "    \"\"\" Remove arquivo, se existir, no folder indicado\n",
    "        Args:\n",
    "            s3_client: Client de integração/conexão com o storage\n",
    "            file_path: Caminho do arquivo a ser deletado no bucket/folder indicado\n",
    "            file_name: Nome do arquivo a ser deletado no bucket/folder indicado\n",
    "    \n",
    "    \"\"\"\n",
    "    logger.info(f\"Removendo arquivo: {file_path}/{file_name}\")\n",
    "\n",
    "    try:\n",
    "        s3_client.delete_object(Bucket=file_path, Key=file_name)\n",
    "        logger.info(f\"\\t* Aquivo {file_path}/{file_name} deletado com sucesso!\")\n",
    "\n",
    "    except Exception as e:\n",
    "        logger.error(f\"\\t* Erro ao tentar deletar arquivo: {file_path}/{file_name}, error: {e}\")\n",
    "\n",
    "# Deletando arquivo no Storage\n",
    "remove_files_in_bucket(s3_client, bucket_name, \"teste.json\")\n"
   ]
  },
  {
   "cell_type": "code",
   "execution_count": null,
   "id": "52b02825-6240-4b37-86e5-20f4da362b85",
   "metadata": {},
   "outputs": [],
   "source": []
  }
 ],
 "metadata": {
  "kernelspec": {
   "display_name": "Python 3 (ipykernel)",
   "language": "python",
   "name": "python3"
  },
  "language_info": {
   "codemirror_mode": {
    "name": "ipython",
    "version": 3
   },
   "file_extension": ".py",
   "mimetype": "text/x-python",
   "name": "python",
   "nbconvert_exporter": "python",
   "pygments_lexer": "ipython3",
   "version": "3.11.8"
  }
 },
 "nbformat": 4,
 "nbformat_minor": 5
}
